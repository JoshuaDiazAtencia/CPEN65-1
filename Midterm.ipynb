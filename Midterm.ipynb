{
  "nbformat": 4,
  "nbformat_minor": 0,
  "metadata": {
    "colab": {
      "provenance": [],
      "authorship_tag": "ABX9TyNMCdiQoNwu0LswzNdg8OcF",
      "include_colab_link": true
    },
    "kernelspec": {
      "name": "python3",
      "display_name": "Python 3"
    },
    "language_info": {
      "name": "python"
    }
  },
  "cells": [
    {
      "cell_type": "markdown",
      "metadata": {
        "id": "view-in-github",
        "colab_type": "text"
      },
      "source": [
        "<a href=\"https://colab.research.google.com/github/JoshuaDiazAtencia/CPEN65-1/blob/main/Midterm.ipynb\" target=\"_parent\"><img src=\"https://colab.research.google.com/assets/colab-badge.svg\" alt=\"Open In Colab\"/></a>"
      ]
    },
    {
      "cell_type": "code",
      "execution_count": 76,
      "metadata": {
        "colab": {
          "base_uri": "https://localhost:8080/"
        },
        "id": "rHxjeMu7ugt4",
        "outputId": "5d3a71cb-5c28-4b8c-8918-53ae613a99b4"
      },
      "outputs": [
        {
          "output_type": "stream",
          "name": "stdout",
          "text": [
            "0 1\n",
            "1 2\n",
            "2 3\n",
            "3 4\n",
            "4 5\n",
            "5 6\n",
            "6 7\n",
            "7 8\n",
            "8 9\n",
            "9 10\n",
            "The sum is: 55\n"
          ]
        }
      ],
      "source": [
        "#Write python program to create an array of 10 integers and display the array items. Access individual elements through indexes and compute for the sum.\n",
        "integers = [1, 2, 3, 4, 5, 6, 7, 8, 9, 10]\n",
        "for index, val in enumerate(integers):\n",
        "  print(index, val)\n",
        "\n",
        "sumall = sum(integers)\n",
        "print(\"The sum is:\", sumall)"
      ]
    },
    {
      "cell_type": "code",
      "source": [
        "#Write python program to append a new item to the end of the array. Original array:numbers = [1, 2, 3, 4, 5, 6, 7, 8, 9, 10] \n",
        "\n",
        "numbers = [1, 2, 3, 4, 5, 6, 7, 8, 9, 10]\n",
        "numbers.append(11)\n",
        "print(numbers)"
      ],
      "metadata": {
        "colab": {
          "base_uri": "https://localhost:8080/"
        },
        "id": "yey-qheWw8wi",
        "outputId": "b2ae105f-92ef-44e1-a971-66bb1b34719d"
      },
      "execution_count": 75,
      "outputs": [
        {
          "output_type": "stream",
          "name": "stdout",
          "text": [
            "[1, 2, 3, 4, 5, 6, 7, 8, 9, 10, 11]\n"
          ]
        }
      ]
    },
    {
      "cell_type": "code",
      "source": [
        "#Write python program to insert a new item before the last element in an existing array. Original array: numbers = [1, 2, 3, 4, 5, 6, 7, 8, 9, 10]\n",
        "\n",
        "numbers = [1, 2, 3, 4, 5, 6, 7, 8, 9, 10]\n",
        "numbers.insert(9, 11)\n",
        "print(numbers)"
      ],
      "metadata": {
        "colab": {
          "base_uri": "https://localhost:8080/"
        },
        "id": "kKmJZ3fTxQM9",
        "outputId": "56fe1470-a3f1-4bb6-f4fc-2a33a1f44e95"
      },
      "execution_count": 74,
      "outputs": [
        {
          "output_type": "stream",
          "name": "stdout",
          "text": [
            "[1, 2, 3, 4, 5, 6, 7, 8, 9, 11, 10]\n"
          ]
        }
      ]
    },
    {
      "cell_type": "code",
      "source": [
        "#Write python program to reverse the order of the items in the array. Original array: numbers = [5, 4, 3, 2, 1]\n",
        "\n",
        "numbers = [1, 2, 3, 4, 5]\n",
        "numbers.reverse()\n",
        "print(numbers)"
      ],
      "metadata": {
        "colab": {
          "base_uri": "https://localhost:8080/"
        },
        "id": "GJtsCbcrxkwn",
        "outputId": "195af618-3c6c-4c28-d236-ce14692ab395"
      },
      "execution_count": 73,
      "outputs": [
        {
          "output_type": "stream",
          "name": "stdout",
          "text": [
            "[5, 4, 3, 2, 1]\n"
          ]
        }
      ]
    },
    {
      "cell_type": "code",
      "source": [
        "#5.\tLet A be an array of size n ≥ 2 containing integers from 1 to n−1, inclusive, with exactly one repeated. Create an algorithm for finding the integer in A that is repeated.\n",
        "Array = [1,2,3,4,5,5]\n",
        "\n",
        "for i in range (0, len(Array)):\n",
        "  for j in range(i+1, len(Array)):\n",
        "    if (Array[i] == Array[j]):\n",
        "      print(\"The duplicated number:\", Array[j])\n"
      ],
      "metadata": {
        "colab": {
          "base_uri": "https://localhost:8080/"
        },
        "id": "bwSpizSnx8KM",
        "outputId": "84318eeb-54b2-49ed-a7d5-f051f4b566a1"
      },
      "execution_count": 72,
      "outputs": [
        {
          "output_type": "stream",
          "name": "stdout",
          "text": [
            "The duplicated number: 5\n"
          ]
        }
      ]
    }
  ]
}