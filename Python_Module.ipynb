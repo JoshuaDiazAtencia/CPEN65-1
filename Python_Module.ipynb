{
  "nbformat": 4,
  "nbformat_minor": 0,
  "metadata": {
    "colab": {
      "provenance": [],
      "authorship_tag": "ABX9TyN0soZZiACwmnn6Tk0W1UFm",
      "include_colab_link": true
    },
    "kernelspec": {
      "name": "python3",
      "display_name": "Python 3"
    },
    "language_info": {
      "name": "python"
    }
  },
  "cells": [
    {
      "cell_type": "markdown",
      "metadata": {
        "id": "view-in-github",
        "colab_type": "text"
      },
      "source": [
        "<a href=\"https://colab.research.google.com/github/JoshuaDiazAtencia/CPEN65-1/blob/main/Python_Module.ipynb\" target=\"_parent\"><img src=\"https://colab.research.google.com/assets/colab-badge.svg\" alt=\"Open In Colab\"/></a>"
      ]
    },
    {
      "cell_type": "markdown",
      "source": [
        "array module in python"
      ],
      "metadata": {
        "id": "EQRa0UxLwP_V"
      }
    },
    {
      "cell_type": "code",
      "execution_count": null,
      "metadata": {
        "colab": {
          "base_uri": "https://localhost:8080/"
        },
        "id": "Ddtwfw-ZwLPb",
        "outputId": "6cac7ee1-b208-4a07-d282-275973580e4b"
      },
      "outputs": [
        {
          "output_type": "stream",
          "name": "stdout",
          "text": [
            "i\n",
            "f\n"
          ]
        }
      ],
      "source": [
        "#getting typecodes\n",
        "import array as arr\n",
        "arr.typecodes\n",
        "a = arr.array('i', [1, 2, 3, 4, 5, 6])\n",
        "print(a.typecode)\n",
        "\n",
        "b = arr.array('f', [1.5, 2.5, 3.5, 4.5, 5.5, 6.5])\n",
        "print(b.typecode)"
      ]
    },
    {
      "cell_type": "code",
      "source": [
        "import array as arr\n",
        "a = arr.array('i', [4, 5, 6, 7])\n",
        "\n",
        "print(a)\n",
        "c = a.insert(1, 2)\n",
        "print(a)\n",
        "\n",
        "a.insert(-1, 0)\n",
        "print(a)\n",
        "\n",
        "a.insert(6, 8)\n",
        "print(a)\n",
        "\n",
        "a.insert(10, -1)\n",
        "print(a)"
      ],
      "metadata": {
        "colab": {
          "base_uri": "https://localhost:8080/"
        },
        "id": "0VG2vgrYw-7f",
        "outputId": "faf473b3-df54-4598-f1da-aa5e2346fac1"
      },
      "execution_count": null,
      "outputs": [
        {
          "output_type": "stream",
          "name": "stdout",
          "text": [
            "array('i', [4, 5, 6, 7])\n",
            "array('i', [4, 2, 5, 6, 7])\n",
            "array('i', [4, 2, 5, 6, 0, 7])\n",
            "array('i', [4, 2, 5, 6, 0, 7, 8])\n",
            "array('i', [4, 2, 5, 6, 0, 7, 8, -1])\n"
          ]
        }
      ]
    },
    {
      "cell_type": "markdown",
      "source": [
        "Linked-list"
      ],
      "metadata": {
        "id": "jmi2G8hGyCoE"
      }
    },
    {
      "cell_type": "code",
      "source": [
        "#python program to create a singly linked of vowel in English"
      ],
      "metadata": {
        "id": "qvgJo6F3yDOY"
      },
      "execution_count": null,
      "outputs": []
    },
    {
      "cell_type": "code",
      "source": [
        "#Node class\n",
        "class Node:\n",
        "  #function to initialize the node subject\n",
        "  def __init__(self, data):\n",
        "    self.data = data #assign data\n",
        "    self.next = None #Initialize as null/empty\n",
        "\n",
        "  #linked list that contains node object\n",
        "\n",
        "class LinkedList:\n",
        "  def __init__(self):\n",
        "    self.head = None\n",
        "\n",
        "  def printlist(self):\n",
        "    temp = self.head\n",
        "    while (temp):\n",
        "      print(temp.data)\n",
        "      temp = temp.next\n",
        "\n",
        "#Code execution starting from empty list\n",
        "llist = LinkedList()\n",
        "llist.head = Node('a')\n",
        "second = Node('e')\n",
        "third = Node('i')\n",
        "fourth = Node('o')\n",
        "fifth = Node('u')\n",
        "\n",
        "llist.head.next = second\n",
        "second.next = third\n",
        "third.next = fourth\n",
        "fourth.next = fifth\n",
        "\n",
        "llist.printlist()"
      ],
      "metadata": {
        "colab": {
          "base_uri": "https://localhost:8080/"
        },
        "id": "UOfLJ5isyPoy",
        "outputId": "d30f56ca-8305-4944-e77b-e8ee343bc899"
      },
      "execution_count": null,
      "outputs": [
        {
          "output_type": "stream",
          "name": "stdout",
          "text": [
            "a\n",
            "e\n",
            "i\n",
            "o\n",
            "u\n"
          ]
        }
      ]
    }
  ]
}