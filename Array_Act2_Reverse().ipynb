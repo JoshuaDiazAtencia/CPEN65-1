{
  "nbformat": 4,
  "nbformat_minor": 0,
  "metadata": {
    "colab": {
      "provenance": [],
      "authorship_tag": "ABX9TyOuvg1UNna+eTJH+ZkuVyFD",
      "include_colab_link": true
    },
    "kernelspec": {
      "name": "python3",
      "display_name": "Python 3"
    },
    "language_info": {
      "name": "python"
    }
  },
  "cells": [
    {
      "cell_type": "markdown",
      "metadata": {
        "id": "view-in-github",
        "colab_type": "text"
      },
      "source": [
        "<a href=\"https://colab.research.google.com/github/JoshuaDiazAtencia/CPEN65-1/blob/main/Array_Act2_Reverse().ipynb\" target=\"_parent\"><img src=\"https://colab.research.google.com/assets/colab-badge.svg\" alt=\"Open In Colab\"/></a>"
      ]
    },
    {
      "cell_type": "code",
      "execution_count": 1,
      "metadata": {
        "colab": {
          "base_uri": "https://localhost:8080/"
        },
        "id": "flMiXvmzZ0nb",
        "outputId": "f7c0c66e-67bc-41fd-ad95-a4b3d1388063"
      },
      "outputs": [
        {
          "output_type": "stream",
          "name": "stdout",
          "text": [
            "['a', 'i', 'c', 'n', 'e', 't', 'A', 'a', 'u', 'h', 's', 'o', 'J']\n"
          ]
        }
      ],
      "source": [
        "#Create a python program that inserts each character of your full name and displays each character of your full name in reverse order\n",
        "Fname = [\"J\", \"o\", \"s\", \"h\", \"u\", \"a\", \"A\", \"t\", \"e\", \"n\", \"c\", \"i\", \"a\"]\n",
        "Fname.reverse()\n",
        "print(Fname)"
      ]
    }
  ]
}