{
  "nbformat": 4,
  "nbformat_minor": 0,
  "metadata": {
    "colab": {
      "provenance": [],
      "collapsed_sections": [],
      "authorship_tag": "ABX9TyP07dydOJcV6sKRnABmF8kh",
      "include_colab_link": true
    },
    "kernelspec": {
      "name": "python3",
      "display_name": "Python 3"
    },
    "language_info": {
      "name": "python"
    }
  },
  "cells": [
    {
      "cell_type": "markdown",
      "metadata": {
        "id": "view-in-github",
        "colab_type": "text"
      },
      "source": [
        "<a href=\"https://colab.research.google.com/github/JoshuaDiazAtencia/CPEN65-1/blob/main/Algorithm_Area_of_Circle_.ipynb\" target=\"_parent\"><img src=\"https://colab.research.google.com/assets/colab-badge.svg\" alt=\"Open In Colab\"/></a>"
      ]
    },
    {
      "cell_type": "code",
      "execution_count": null,
      "metadata": {
        "colab": {
          "base_uri": "https://localhost:8080/"
        },
        "id": "vnoDK4pGpFYz",
        "outputId": "04f5b3d7-4021-4bef-8a9c-26876ea6bf58"
      },
      "outputs": [
        {
          "output_type": "stream",
          "name": "stdout",
          "text": [
            "If radius is given, the area of the circle is \n",
            "314.0\n",
            "If diameter is given, the area of the circle is \n",
            "314.0\n"
          ]
        }
      ],
      "source": [
        "class Circle:\n",
        "  def __init__(self,pi,rad, dia):\n",
        "    self.pi = pi\n",
        "    self.rad = rad\n",
        "    self.dia = dia\n",
        "\n",
        "  def GivenRadius(self):\n",
        "    print(self.pi*self.rad**2)\n",
        "  \n",
        "  def GivenDiameter(self):\n",
        "    print(((self.pi*(self.dia**2))/4))\n",
        "\n",
        "Circ=Circle(3.14, 10, 20)\n",
        "print(\"If radius is given, the area of the circle is \") \n",
        "Circ.GivenRadius()\n",
        "\n",
        "print(\"If diameter is given, the area of the circle is \")\n",
        "Circ.GivenDiameter()"
      ]
    }
  ]
}